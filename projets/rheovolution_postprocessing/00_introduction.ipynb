{
 "cells": [
  {
   "cell_type": "code",
   "execution_count": 1,
   "metadata": {},
   "outputs": [
    {
     "name": "stdout",
     "output_type": "stream",
     "text": [
      "Python 3.10.9\n"
     ]
    }
   ],
   "source": [
    "!python --version"
   ]
  },
  {
   "cell_type": "code",
   "execution_count": 2,
   "metadata": {},
   "outputs": [],
   "source": [
    "import os"
   ]
  },
  {
   "attachments": {},
   "cell_type": "markdown",
   "metadata": {},
   "source": [
    "# Locate your data"
   ]
  },
  {
   "cell_type": "code",
   "execution_count": 3,
   "metadata": {},
   "outputs": [
    {
     "data": {
      "text/plain": [
       "'C:\\\\Users\\\\julie\\\\Documents\\\\test_deia_Nov2022'"
      ]
     },
     "execution_count": 3,
     "metadata": {},
     "output_type": "execute_result"
    }
   ],
   "source": [
    "basepath = os.path.join(\"C:\\\\Users\", \"julie\", \"Documents\", \"test_deia_Nov2022\")\n",
    "basepath"
   ]
  },
  {
   "attachments": {},
   "cell_type": "markdown",
   "metadata": {},
   "source": [
    "# List folders in the base path"
   ]
  },
  {
   "cell_type": "code",
   "execution_count": 4,
   "metadata": {},
   "outputs": [
    {
     "data": {
      "text/plain": [
       "['E10_rect_P2_0.5GPa_init1_neigh1_time10_dtup5000_500000_1000K_Zfree_WR7_4e_6_PNew1.5e9_long',\n",
       " 'E11_rect_P2_0.5GPa_init0_neigh1_time10_dtup5000_500000_1000K_Zfree_WR7_4e_6_PNew1.5e9_long',\n",
       " 'E12_rect_P2_0.5GPa_init0_neigh1_time10_dtup5000_500000_1000K_Zfree_WR7_4e_6_PNew1.5e9_long_4',\n",
       " 'E13rect_P2_0.5GPa_init0_neigh1_time10_dtup10000_500000_1000K_Zfree_WR7_4.5e_6_PNew1e9_long']"
      ]
     },
     "execution_count": 4,
     "metadata": {},
     "output_type": "execute_result"
    }
   ],
   "source": [
    "explist = os.listdir(basepath)\n",
    "explist"
   ]
  },
  {
   "attachments": {},
   "cell_type": "markdown",
   "metadata": {},
   "source": [
    "# Run through folders"
   ]
  },
  {
   "cell_type": "code",
   "execution_count": 5,
   "metadata": {},
   "outputs": [
    {
     "name": "stdout",
     "output_type": "stream",
     "text": [
      "==========================================================================================\n",
      "E10_rect_P2_0.5GPa_init1_neigh1_time10_dtup5000_500000_1000K_Zfree_WR7_4e_6_PNew1.5e9_long:\n",
      "------------------------------------------------------------------------------------------\n",
      "['compr.001.J2d.inside', 'compr.001.J2e.inside', 'compr.001.J2s.inside', 'compr.001.Peierls', 'compr.001.Peierls.inside', 'compr.001.Strain', 'compr.001.Work_rate', 'compr.002.J2d.inside', 'compr.002.J2e.inside', 'compr.002.J2s.inside', 'compr.002.Peierls.inside', 'compr.002.Strain', 'compr.002.Work_rate', 'compr.003.J2d.inside', 'compr.003.J2e.inside', 'compr.003.J2s.inside', 'compr.003.Peierls.inside', 'compr.003.Strain', 'compr.003.Work_rate', 'compr.004.J2d.inside', 'compr.004.J2e.inside', 'compr.004.J2s.inside', 'compr.004.Peierls.inside', 'compr.004.Strain', 'compr.004.Work_rate', 'compr.005.J2d.inside', 'compr.005.J2e.inside', 'compr.005.J2s.inside', 'compr.005.Peierls.inside', 'compr.005.Strain', 'compr.005.Work_rate', 'compr.006.J2d.inside', 'compr.006.J2e.inside', 'compr.006.J2s.inside', 'compr.006.Peierls.inside', 'compr.006.Strain', 'compr.006.Work_rate', 'compr.007.J2d.inside', 'compr.007.J2e.inside', 'compr.007.J2s.inside', 'compr.007.Peierls.inside', 'compr.007.Strain', 'compr.007.Work_rate', 'compr.008.J2d.inside', 'compr.008.J2e.inside', 'compr.008.J2s.inside', 'compr.008.Peierls.inside', 'compr.008.Strain', 'compr.008.Work_rate', 'compr.009.J2d.inside', 'compr.009.J2e.inside', 'compr.009.J2s.inside', 'compr.009.Peierls.inside', 'compr.009.Strain', 'compr.009.Work_rate', 'compr.010.J2d.inside', 'compr.010.J2e.inside', 'compr.010.J2s.inside', 'compr.010.Peierls.inside', 'compr.010.Strain', 'compr.010.Work_rate', 'compr.011.J2d.inside', 'compr.011.J2e.inside', 'compr.011.J2s.inside', 'compr.011.Peierls.inside', 'compr.011.Strain', 'compr.011.Work_rate', 'compr.012.J2d.inside', 'compr.012.J2e.inside', 'compr.012.J2s.inside', 'compr.012.Peierls.inside', 'compr.012.Strain', 'compr.012.Work_rate', 'compr.013.J2d.inside', 'compr.013.J2e.inside', 'compr.013.J2s.inside', 'compr.013.Peierls.inside', 'compr.013.Strain', 'compr.013.Work_rate', 'compr.014.J2d.inside', 'compr.014.J2e.inside', 'compr.014.J2s.inside', 'compr.014.Peierls.inside', 'compr.014.Strain', 'compr.014.Work_rate', 'compr.015.J2d.inside', 'compr.015.J2e.inside', 'compr.015.J2s.inside', 'compr.015.Peierls.inside', 'compr.015.Strain', 'compr.015.Work_rate', 'compr.016.J2d.inside', 'compr.016.J2e.inside', 'compr.016.J2s.inside', 'compr.016.Peierls.inside', 'compr.016.Strain', 'compr.016.Work_rate', 'compr.017.J2d.inside', 'compr.017.J2e.inside', 'compr.017.J2s.inside', 'compr.017.Peierls.inside', 'compr.017.Strain', 'compr.017.Work_rate', 'compr.018.J2d.inside', 'compr.018.J2e.inside', 'compr.018.J2s.inside', 'compr.018.Peierls.inside', 'compr.018.Strain', 'compr.018.Work_rate', 'compr.019.J2d.inside', 'compr.019.J2e.inside', 'compr.019.J2s.inside', 'compr.019.Peierls.inside', 'compr.019.Strain', 'compr.019.Work_rate', 'compr.020.J2d.inside', 'compr.020.J2e.inside', 'compr.020.J2s.inside', 'compr.020.Peierls.inside', 'compr.020.Strain', 'compr.020.Work_rate', 'compr.021.J2d.inside', 'compr.021.J2e.inside', 'compr.021.J2s.inside', 'compr.021.Peierls.inside', 'compr.021.Strain', 'compr.021.Work_rate', 'compr.022.Strain', 'compr.022.Work_rate', 'compr.023.Strain', 'compr.023.Work_rate', 'compr.024.Strain', 'compr.024.Work_rate', 'compr.025.Strain', 'compr.025.Work_rate', 'compr.026.Strain', 'compr.026.Work_rate', 'compr.027.Strain', 'compr.027.Work_rate', 'compr.028.Strain', 'compr.028.Work_rate', 'compr.029.Strain', 'compr.029.Work_rate', 'compr.030.Strain', 'compr.030.Work_rate', 'compr.031.Strain', 'compr.031.Work_rate', 'compr.032.Strain', 'compr.032.Work_rate', 'compr.033.Strain', 'compr.033.Work_rate', 'compr.034.Strain', 'compr.034.Work_rate', 'compr.035.Strain', 'compr.035.Work_rate', 'compr.036.Strain', 'compr.036.Work_rate', 'compr.037.Strain', 'compr.037.Work_rate', 'compr.038.Strain', 'compr.038.Work_rate', 'compr.039.Strain', 'compr.039.Work_rate', 'compr.040.Strain', 'compr.040.Work_rate', 'compr.041.Strain', 'compr.041.Work_rate', 'compr.042.Strain', 'compr.042.Work_rate', 'compr.043.Strain', 'compr.043.Work_rate', 'compr.044.Strain', 'compr.044.Work_rate', 'compr.045.Strain', 'compr.045.Work_rate', 'compr.046.Strain', 'compr.046.Work_rate', 'compr.047.Strain', 'compr.047.Work_rate', 'compr.048.Strain', 'compr.048.Work_rate', 'compr.049.Strain', 'compr.049.Work_rate', 'compr.050.Strain', 'compr.050.Work_rate', 'compr.051.Strain', 'compr.051.Work_rate', 'compr.052.Strain', 'compr.052.Work_rate', 'compr.053.Strain', 'compr.053.Work_rate', 'compr.054.Strain', 'compr.054.Work_rate', 'compr.055.Strain', 'compr.055.Work_rate', 'compr.056.Strain', 'compr.056.Work_rate', 'compr.057.Strain', 'compr.057.Work_rate', 'compr.058.Strain', 'compr.058.Work_rate', 'compr.059.Strain', 'compr.059.Work_rate', 'compr.060.Strain', 'compr.060.Work_rate', 'compr.061.Strain', 'compr.061.Work_rate', 'compr.062.Strain', 'compr.062.Work_rate', 'compr.063.Strain', 'compr.063.Work_rate', 'compr.064.Strain', 'compr.064.Work_rate', 'compr.065.Strain', 'compr.065.Work_rate', 'compr.066.Strain', 'compr.066.Work_rate', 'compr.067.Strain', 'compr.067.Work_rate', 'compr.068.Strain', 'compr.068.Work_rate', 'compr.069.Strain', 'compr.069.Work_rate', 'compr.070.Strain', 'compr.070.Work_rate', 'compr.071.Strain', 'compr.071.Work_rate', 'compr.072.Strain', 'compr.072.Work_rate', 'compr.073.Strain', 'compr.073.Work_rate', 'compr.074.Strain', 'compr.074.Work_rate', 'compr.075.Strain', 'compr.075.Work_rate', 'compr.076.Strain', 'compr.076.Work_rate', 'compr.077.Strain', 'compr.077.Work_rate', 'compr.078.Strain', 'compr.078.Work_rate', 'compr.079.Strain', 'compr.079.Work_rate', 'compr.080.Strain', 'compr.080.Work_rate', 'compr.081.Strain', 'compr.081.Work_rate', 'compr.082.Strain', 'compr.082.Work_rate', 'compr.083.Strain', 'compr.083.Work_rate', 'compr.084.Strain', 'compr.084.Work_rate', 'compr.085.Strain', 'compr.085.Work_rate', 'compr.086.Strain', 'compr.086.Work_rate', 'compr.087.Strain', 'compr.087.Work_rate', 'compr.088.Strain', 'compr.088.Work_rate', 'compr.089.Strain', 'compr.089.Work_rate', 'compr.090.Strain', 'compr.090.Work_rate', 'compr.091.Strain', 'compr.091.Work_rate', 'compr.092.Strain', 'compr.092.Work_rate', 'compr.093.Strain', 'compr.093.Work_rate', 'compr.094.Strain', 'compr.094.Work_rate', 'compr.095.Strain', 'compr.095.Work_rate', 'compr.096.Strain', 'compr.096.Work_rate', 'compr.097.Strain', 'compr.097.Work_rate', 'compr.098.Strain', 'compr.098.Work_rate', 'compr.099.Strain', 'compr.099.Work_rate', 'compr.100.Strain', 'compr.100.Work_rate', 'compr.101.Strain', 'compr.101.Work_rate', 'compr.102.Strain', 'compr.102.Work_rate', 'compr.103.Strain', 'compr.103.Work_rate', 'compr.104.Strain', 'compr.104.Work_rate', 'compr.105.Strain', 'compr.105.Work_rate', 'compr.106.Strain', 'compr.106.Work_rate', 'compr.107.Strain', 'compr.107.Work_rate', 'compr.108.Strain', 'compr.108.Work_rate', 'compr.109.Strain', 'compr.109.Work_rate', 'compr.110.Strain', 'compr.110.Work_rate', 'compr.111.Strain', 'compr.111.Work_rate', 'compr.112.Strain', 'compr.112.Work_rate', 'compr.113.Strain', 'compr.113.Work_rate', 'compr.114.Strain', 'compr.114.Work_rate', 'compr.115.Strain', 'compr.115.Work_rate', 'compr.116.Strain', 'compr.116.Work_rate', 'compr.117.Strain', 'compr.117.Work_rate', 'compr.118.Strain', 'compr.118.Work_rate', 'compr.119.Strain', 'compr.119.Work_rate', 'compr.120.Strain', 'compr.120.Work_rate', 'compr.121.Strain', 'compr.121.Work_rate', 'compr.122.Strain', 'compr.122.Work_rate', 'compr.123.Strain', 'compr.123.Work_rate', 'compr.124.Strain', 'compr.124.Work_rate', 'compr.125.Strain', 'compr.125.Work_rate', 'compr.126.Strain', 'compr.126.Work_rate', 'compr.127.Strain', 'compr.127.Work_rate', 'compr.128.Strain', 'compr.128.Work_rate', 'compr.129.Strain', 'compr.129.Work_rate', 'compr.130.Strain', 'compr.130.Work_rate', 'compr.131.Strain', 'compr.131.Work_rate', 'compr.132.Strain', 'compr.132.Work_rate', 'compr.133.Strain', 'compr.133.Work_rate', 'compr.134.Strain', 'compr.134.Work_rate', 'compr.135.Strain', 'compr.135.Work_rate', 'compr.136.Strain', 'compr.136.Work_rate', 'compr.137.Strain', 'compr.137.Work_rate', 'compr.138.Strain', 'compr.138.Work_rate', 'compr.139.Strain', 'compr.139.Work_rate', 'compr.140.Strain', 'compr.140.Work_rate', 'compr.141.Strain', 'compr.141.Work_rate', 'compr.142.Strain', 'compr.142.Work_rate', 'compr.143.Strain', 'compr.143.Work_rate', 'compr.144.Strain', 'compr.144.Work_rate', 'compr.145.Strain', 'compr.145.Work_rate', 'compr.146.Strain', 'compr.146.Work_rate', 'compr.147.Strain', 'compr.147.Work_rate', 'compr.148.Strain', 'compr.148.Work_rate', 'compr.149.Strain', 'compr.149.Work_rate', 'compr.150.Strain', 'compr.150.Work_rate', 'compr.151.Strain', 'compr.151.Work_rate', 'compr.152.Strain', 'compr.152.Work_rate', 'compr.153.Strain', 'compr.153.Work_rate', 'compr.154.Strain', 'compr.154.Work_rate', 'compr.155.Strain', 'compr.155.Work_rate', 'compr.156.Strain', 'compr.156.Work_rate', 'compr.157.Strain', 'compr.157.Work_rate', 'compr.158.Strain', 'compr.158.Work_rate', 'compr.159.Strain', 'compr.159.Work_rate', 'compr.160.Strain', 'compr.160.Work_rate', 'compr.161.Strain', 'compr.161.Work_rate', 'compr.162.Strain', 'compr.162.Work_rate', 'compr.163.Strain', 'compr.163.Work_rate', 'compr.164.Strain', 'compr.164.Work_rate', 'compr.165.Strain', 'compr.165.Work_rate', 'compr.166.Strain', 'compr.166.Work_rate', 'compr.167.Strain', 'compr.167.Work_rate', 'compr.168.Strain', 'compr.168.Work_rate', 'compr.169.Strain', 'compr.169.Work_rate', 'compr.170.Strain', 'compr.170.Work_rate', 'compr.171.Strain', 'compr.171.Work_rate', 'compr.172.Strain', 'compr.172.Work_rate', 'compr.173.Strain', 'compr.173.Work_rate', 'compr.174.Strain', 'compr.174.Work_rate', 'compr.175.Strain', 'compr.175.Work_rate', 'compr.176.Strain', 'compr.176.Work_rate', 'compr.177.Strain', 'compr.177.Work_rate', 'compr.178.Strain', 'compr.178.Work_rate', 'compr.179.Strain', 'compr.179.Work_rate', 'compr.180.Strain', 'compr.180.Work_rate', 'compr.181.Strain', 'compr.181.Work_rate', 'compr.182.Strain', 'compr.182.Work_rate', 'compr.183.Strain', 'compr.183.Work_rate', 'compr.184.Strain', 'compr.184.Work_rate', 'compr.185.Strain', 'compr.185.Work_rate', 'compr.186.Strain', 'compr.186.Work_rate', 'compr.187.Strain', 'compr.187.Work_rate', 'compr.188.Strain', 'compr.188.Work_rate', 'compr.189.Strain', 'compr.189.Work_rate', 'compr.190.Strain', 'compr.190.Work_rate', 'compr.191.Strain', 'compr.191.Work_rate', 'compr.192.Strain', 'compr.192.Work_rate', 'compr.193.Strain', 'compr.193.Work_rate', 'compr.194.Strain', 'compr.194.Work_rate', 'compr.195.Strain', 'compr.195.Work_rate', 'compr.196.Strain', 'compr.196.Work_rate', 'compr.197.Strain', 'compr.197.Work_rate', 'compr.198.Strain', 'compr.198.Work_rate', 'compr.199.Strain', 'compr.199.Work_rate', 'compr.200.Strain', 'compr.200.Work_rate', 'ecompr', 'elem_num.inside', 'icompr', 'icompr.sto', 'jcompr', 'ocompr', 'pcompr', 'scompr', 'tcompr']\n",
      "\n",
      "==========================================================================================\n",
      "E11_rect_P2_0.5GPa_init0_neigh1_time10_dtup5000_500000_1000K_Zfree_WR7_4e_6_PNew1.5e9_long:\n",
      "------------------------------------------------------------------------------------------\n",
      "['ecompr', 'icompr', 'icompr.sto', 'jcompr', 'ocompr', 'pcompr', 'scompr', 'tcompr']\n",
      "\n",
      "==========================================================================================\n",
      "E12_rect_P2_0.5GPa_init0_neigh1_time10_dtup5000_500000_1000K_Zfree_WR7_4e_6_PNew1.5e9_long_4:\n",
      "------------------------------------------------------------------------------------------\n",
      "['ecompr', 'icompr', 'icompr.sto', 'jcompr', 'ocompr', 'pcompr', 'scompr', 'tcompr']\n",
      "\n",
      "==========================================================================================\n",
      "E13rect_P2_0.5GPa_init0_neigh1_time10_dtup10000_500000_1000K_Zfree_WR7_4.5e_6_PNew1e9_long:\n",
      "------------------------------------------------------------------------------------------\n",
      "['ecompr', 'icompr', 'icompr.sto', 'jcompr', 'ocompr', 'pcompr', 'scompr', 'tcompr']\n",
      "\n"
     ]
    }
   ],
   "source": [
    "for expfolder in explist:\n",
    "\n",
    "    exppath = os.path.join(basepath, expfolder)\n",
    "\n",
    "    content = os.listdir(exppath)\n",
    "\n",
    "    print(90*\"=\")\n",
    "    print(f\"{expfolder}:\")\n",
    "    print(90*\"-\")\n",
    "    print(content)\n",
    "    print()\n"
   ]
  }
 ],
 "metadata": {
  "kernelspec": {
   "display_name": "rheovolution",
   "language": "python",
   "name": "python3"
  },
  "language_info": {
   "codemirror_mode": {
    "name": "ipython",
    "version": 3
   },
   "file_extension": ".py",
   "mimetype": "text/x-python",
   "name": "python",
   "nbconvert_exporter": "python",
   "pygments_lexer": "ipython3",
   "version": "3.10.9"
  },
  "orig_nbformat": 4,
  "vscode": {
   "interpreter": {
    "hash": "f147a3865f4438165eec8f108b3da9e7ebba0b240282c6bc93e2184e617ff0e4"
   }
  }
 },
 "nbformat": 4,
 "nbformat_minor": 2
}
