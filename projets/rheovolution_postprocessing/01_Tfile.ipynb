{
 "cells": [
  {
   "cell_type": "code",
   "execution_count": 1,
   "metadata": {},
   "outputs": [
    {
     "name": "stdout",
     "output_type": "stream",
     "text": [
      "Python 3.10.9\n"
     ]
    }
   ],
   "source": [
    "!python --version"
   ]
  },
  {
   "cell_type": "code",
   "execution_count": 2,
   "metadata": {},
   "outputs": [],
   "source": [
    "import numpy as np\n",
    "import os"
   ]
  },
  {
   "attachments": {},
   "cell_type": "markdown",
   "metadata": {},
   "source": [
    "# About ADELI's t-file"
   ]
  },
  {
   "cell_type": "code",
   "execution_count": 3,
   "metadata": {},
   "outputs": [],
   "source": [
    "class Tfile():\n",
    "\n",
    "    def __init__(self, path: str) -> None:\n",
    "        self.path = path\n",
    "\n",
    "        return None\n",
    "\n",
    "\n",
    "    def read(self) -> np.ndarray:\n",
    "        dates = None\n",
    "\n",
    "        try:\n",
    "            dates = np.genfromtxt(self.path)\n",
    "            dates = dates[:, 1]\n",
    "\n",
    "        except FileNotFoundError:\n",
    "            print(f\"{self.path} is not readable, skip.\")\n",
    "\n",
    "        return dates"
   ]
  },
  {
   "attachments": {},
   "cell_type": "markdown",
   "metadata": {},
   "source": [
    "# Read in each experience's t-file"
   ]
  },
  {
   "cell_type": "code",
   "execution_count": 4,
   "metadata": {},
   "outputs": [
    {
     "name": "stdout",
     "output_type": "stream",
     "text": [
      "============================================================================================================================================\n",
      "C:\\Users\\julie\\Documents\\test_deia_Nov2022\\E10_rect_P2_0.5GPa_init1_neigh1_time10_dtup5000_500000_1000K_Zfree_WR7_4e_6_PNew1.5e9_long :\n",
      "--------------------------------------------------------------------------------------------------------------------------------------------\n",
      "[      0.           63419.58425082  126839.16850165  190260.02114416\n",
      "  253678.33700329  317097.92125412  380518.77389663  443938.35814745\n",
      "  507356.67400659  570776.25825741  634195.84250823  697615.42675906\n",
      "  761036.27940157  824454.5952607   887875.44790321  951293.76376235\n",
      " 1014713.34801317 1078134.20065568 1141552.51651482 1204972.10076564\n",
      " 1268391.68501647]\n",
      "\n",
      "shape  : (21,)\n",
      "dtypes : float64\n",
      "NaNs   : False\n",
      "\n",
      "============================================================================================================================================\n",
      "C:\\Users\\julie\\Documents\\test_deia_Nov2022\\E11_rect_P2_0.5GPa_init0_neigh1_time10_dtup5000_500000_1000K_Zfree_WR7_4e_6_PNew1.5e9_long :\n",
      "--------------------------------------------------------------------------------------------------------------------------------------------\n",
      "[      0.           63419.58425082  126839.16850165  190260.02114416\n",
      "  253678.33700329  317097.92125412  380518.77389663  443938.35814745\n",
      "  507356.67400659  570776.25825741  634195.84250823  697615.42675906\n",
      "  761036.27940157  824454.5952607   887875.44790321  951293.76376235\n",
      " 1014713.34801317 1078134.20065568 1141552.51651482 1204972.10076564\n",
      " 1268391.68501647]\n",
      "\n",
      "shape  : (21,)\n",
      "dtypes : float64\n",
      "NaNs   : False\n",
      "\n",
      "============================================================================================================================================\n",
      "C:\\Users\\julie\\Documents\\test_deia_Nov2022\\E12_rect_P2_0.5GPa_init0_neigh1_time10_dtup5000_500000_1000K_Zfree_WR7_4e_6_PNew1.5e9_long_4 :\n",
      "--------------------------------------------------------------------------------------------------------------------------------------------\n",
      "[      0.           63419.58425082  126839.16850165  190260.02114416\n",
      "  253678.33700329  317097.92125412  380518.77389663  443938.35814745\n",
      "  507356.67400659  570776.25825741  634195.84250823  697615.42675906\n",
      "  761036.27940157  824454.5952607   887875.44790321  951293.76376235\n",
      " 1014713.34801317 1078134.20065568 1141552.51651482 1204972.10076564\n",
      " 1268391.68501647]\n",
      "\n",
      "shape  : (21,)\n",
      "dtypes : float64\n",
      "NaNs   : False\n",
      "\n",
      "============================================================================================================================================\n",
      "C:\\Users\\julie\\Documents\\test_deia_Nov2022\\E13rect_P2_0.5GPa_init0_neigh1_time10_dtup10000_500000_1000K_Zfree_WR7_4.5e_6_PNew1e9_long :\n",
      "--------------------------------------------------------------------------------------------------------------------------------------------\n",
      "[      0.           63419.58425082  126839.16850165  190260.02114416\n",
      "  253678.33700329  317097.92125412  380518.77389663  443938.35814745\n",
      "  507356.67400659  570776.25825741  634195.84250823  697615.42675906\n",
      "  761036.27940157  824454.5952607   887875.44790321  951293.76376235\n",
      " 1014713.34801317 1078134.20065568 1141552.51651482 1204972.10076564\n",
      " 1268391.68501647]\n",
      "\n",
      "shape  : (21,)\n",
      "dtypes : float64\n",
      "NaNs   : False\n",
      "\n"
     ]
    }
   ],
   "source": [
    "basepath = os.path.join(\"C:\\\\Users\", \"julie\", \"Documents\", \"test_deia_Nov2022\")\n",
    "explist  = os.listdir(basepath)\n",
    "\n",
    "for expfolder in explist:\n",
    "\n",
    "    exppath = os.path.join(basepath, expfolder)\n",
    "    tpath   = os.path.join(exppath, \"\".join([filename for filename in os.listdir(exppath) if filename.startswith(\"t\")]))\n",
    "    \n",
    "    tfile   = Tfile(tpath)\n",
    "    dates   = tfile.read()\n",
    "\n",
    "    print(140*\"=\")\n",
    "    print(f\"{exppath} :\")\n",
    "    print(140*\"-\")\n",
    "    print(dates)\n",
    "    print()\n",
    "    print(f\"shape  : {dates.shape}\")\n",
    "    print(f\"dtypes : {dates.dtype}\")\n",
    "    print(f\"NaNs   : {np.any(np.isnan(dates))}\")\n",
    "    print()"
   ]
  },
  {
   "attachments": {},
   "cell_type": "markdown",
   "metadata": {},
   "source": [
    "Validated. In the next notebook, I manipulate p-files."
   ]
  }
 ],
 "metadata": {
  "kernelspec": {
   "display_name": "rheovolution",
   "language": "python",
   "name": "python3"
  },
  "language_info": {
   "codemirror_mode": {
    "name": "ipython",
    "version": 3
   },
   "file_extension": ".py",
   "mimetype": "text/x-python",
   "name": "python",
   "nbconvert_exporter": "python",
   "pygments_lexer": "ipython3",
   "version": "3.10.9"
  },
  "orig_nbformat": 4,
  "vscode": {
   "interpreter": {
    "hash": "f147a3865f4438165eec8f108b3da9e7ebba0b240282c6bc93e2184e617ff0e4"
   }
  }
 },
 "nbformat": 4,
 "nbformat_minor": 2
}
