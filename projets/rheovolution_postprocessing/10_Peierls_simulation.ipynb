{
 "cells": [
  {
   "cell_type": "code",
   "execution_count": 1,
   "metadata": {},
   "outputs": [
    {
     "name": "stdout",
     "output_type": "stream",
     "text": [
      "Python 3.10.9\n"
     ]
    }
   ],
   "source": [
    "!python --version"
   ]
  },
  {
   "cell_type": "code",
   "execution_count": 2,
   "metadata": {},
   "outputs": [
    {
     "name": "stderr",
     "output_type": "stream",
     "text": [
      "c:\\Users\\julie\\Documents\\GitHub\\drafts\\postprocessing.py:279: UserWarning: No contour levels were found within the data range.\n",
      "  axe.contour(peierls, [cinf, 1])\n",
      "c:\\Users\\julie\\Documents\\GitHub\\drafts\\postprocessing.py:207: UserWarning: No contour levels were found within the data range.\n",
      "  axe.contour(field, [cinf, 1])\n",
      "c:\\Users\\julie\\Documents\\GitHub\\drafts\\postprocessing.py:207: UserWarning: No contour levels were found within the data range.\n",
      "  axe.contour(field, [cinf, 1])\n",
      "c:\\Users\\julie\\Documents\\GitHub\\drafts\\postprocessing.py:207: UserWarning: No contour levels were found within the data range.\n",
      "  axe.contour(field, [cinf, 1])\n",
      "c:\\Users\\julie\\Documents\\GitHub\\drafts\\postprocessing.py:207: UserWarning: No contour levels were found within the data range.\n",
      "  axe.contour(field, [cinf, 1])\n",
      "c:\\Users\\julie\\Documents\\GitHub\\drafts\\postprocessing.py:207: UserWarning: No contour levels were found within the data range.\n",
      "  axe.contour(field, [cinf, 1])\n",
      "c:\\Users\\julie\\Documents\\GitHub\\drafts\\postprocessing.py:207: UserWarning: No contour levels were found within the data range.\n",
      "  axe.contour(field, [cinf, 1])\n",
      "c:\\Users\\julie\\Documents\\GitHub\\drafts\\postprocessing.py:207: UserWarning: No contour levels were found within the data range.\n",
      "  axe.contour(field, [cinf, 1])\n",
      "c:\\Users\\julie\\Documents\\GitHub\\drafts\\postprocessing.py:207: UserWarning: No contour levels were found within the data range.\n",
      "  axe.contour(field, [cinf, 1])\n",
      "c:\\Users\\julie\\Documents\\GitHub\\drafts\\postprocessing.py:207: UserWarning: No contour levels were found within the data range.\n",
      "  axe.contour(field, [cinf, 1])\n",
      "c:\\Users\\julie\\Documents\\GitHub\\drafts\\postprocessing.py:207: UserWarning: No contour levels were found within the data range.\n",
      "  axe.contour(field, [cinf, 1])\n",
      "c:\\Users\\julie\\Documents\\GitHub\\drafts\\postprocessing.py:207: UserWarning: No contour levels were found within the data range.\n",
      "  axe.contour(field, [cinf, 1])\n",
      "c:\\Users\\julie\\Documents\\GitHub\\drafts\\postprocessing.py:207: UserWarning: No contour levels were found within the data range.\n",
      "  axe.contour(field, [cinf, 1])\n",
      "c:\\Users\\julie\\Documents\\GitHub\\drafts\\postprocessing.py:207: UserWarning: No contour levels were found within the data range.\n",
      "  axe.contour(field, [cinf, 1])\n",
      "c:\\Users\\julie\\Documents\\GitHub\\drafts\\postprocessing.py:207: UserWarning: No contour levels were found within the data range.\n",
      "  axe.contour(field, [cinf, 1])\n",
      "c:\\Users\\julie\\Documents\\GitHub\\drafts\\postprocessing.py:207: UserWarning: No contour levels were found within the data range.\n",
      "  axe.contour(field, [cinf, 1])\n",
      "c:\\Users\\julie\\Documents\\GitHub\\drafts\\postprocessing.py:207: UserWarning: No contour levels were found within the data range.\n",
      "  axe.contour(field, [cinf, 1])\n",
      "c:\\Users\\julie\\Documents\\GitHub\\drafts\\postprocessing.py:207: UserWarning: No contour levels were found within the data range.\n",
      "  axe.contour(field, [cinf, 1])\n",
      "c:\\Users\\julie\\Documents\\GitHub\\drafts\\postprocessing.py:207: UserWarning: No contour levels were found within the data range.\n",
      "  axe.contour(field, [cinf, 1])\n",
      "c:\\Users\\julie\\Documents\\GitHub\\drafts\\postprocessing.py:207: UserWarning: No contour levels were found within the data range.\n",
      "  axe.contour(field, [cinf, 1])\n",
      "c:\\Users\\julie\\Documents\\GitHub\\drafts\\postprocessing.py:207: UserWarning: No contour levels were found within the data range.\n",
      "  axe.contour(field, [cinf, 1])\n",
      "c:\\Users\\julie\\Documents\\GitHub\\drafts\\postprocessing.py:207: UserWarning: No contour levels were found within the data range.\n",
      "  axe.contour(field, [cinf, 1])\n",
      "c:\\Users\\julie\\Documents\\GitHub\\drafts\\postprocessing.py:207: UserWarning: No contour levels were found within the data range.\n",
      "  axe.contour(field, [cinf, 1])\n",
      "c:\\Users\\julie\\Documents\\GitHub\\drafts\\postprocessing.py:207: UserWarning: No contour levels were found within the data range.\n",
      "  axe.contour(field, [cinf, 1])\n",
      "c:\\Users\\julie\\Documents\\GitHub\\drafts\\postprocessing.py:207: UserWarning: No contour levels were found within the data range.\n",
      "  axe.contour(field, [cinf, 1])\n",
      "c:\\Users\\julie\\Documents\\GitHub\\drafts\\postprocessing.py:207: UserWarning: No contour levels were found within the data range.\n",
      "  axe.contour(field, [cinf, 1])\n",
      "c:\\Users\\julie\\Documents\\GitHub\\drafts\\postprocessing.py:207: UserWarning: No contour levels were found within the data range.\n",
      "  axe.contour(field, [cinf, 1])\n",
      "c:\\Users\\julie\\Documents\\GitHub\\drafts\\postprocessing.py:207: UserWarning: No contour levels were found within the data range.\n",
      "  axe.contour(field, [cinf, 1])\n",
      "c:\\Users\\julie\\Documents\\GitHub\\drafts\\postprocessing.py:207: UserWarning: No contour levels were found within the data range.\n",
      "  axe.contour(field, [cinf, 1])\n",
      "c:\\Users\\julie\\Documents\\GitHub\\drafts\\postprocessing.py:207: UserWarning: No contour levels were found within the data range.\n",
      "  axe.contour(field, [cinf, 1])\n",
      "c:\\Users\\julie\\Documents\\GitHub\\drafts\\postprocessing.py:207: UserWarning: No contour levels were found within the data range.\n",
      "  axe.contour(field, [cinf, 1])\n",
      "c:\\Users\\julie\\Documents\\GitHub\\drafts\\postprocessing.py:207: UserWarning: No contour levels were found within the data range.\n",
      "  axe.contour(field, [cinf, 1])\n",
      "c:\\Users\\julie\\Documents\\GitHub\\drafts\\postprocessing.py:207: UserWarning: No contour levels were found within the data range.\n",
      "  axe.contour(field, [cinf, 1])\n",
      "c:\\Users\\julie\\Documents\\GitHub\\drafts\\postprocessing.py:207: UserWarning: No contour levels were found within the data range.\n",
      "  axe.contour(field, [cinf, 1])\n",
      "c:\\Users\\julie\\Documents\\GitHub\\drafts\\postprocessing.py:207: UserWarning: No contour levels were found within the data range.\n",
      "  axe.contour(field, [cinf, 1])\n",
      "c:\\Users\\julie\\Documents\\GitHub\\drafts\\postprocessing.py:207: UserWarning: No contour levels were found within the data range.\n",
      "  axe.contour(field, [cinf, 1])\n",
      "c:\\Users\\julie\\Documents\\GitHub\\drafts\\postprocessing.py:207: UserWarning: No contour levels were found within the data range.\n",
      "  axe.contour(field, [cinf, 1])\n",
      "c:\\Users\\julie\\Documents\\GitHub\\drafts\\postprocessing.py:207: UserWarning: No contour levels were found within the data range.\n",
      "  axe.contour(field, [cinf, 1])\n"
     ]
    }
   ],
   "source": [
    "import postprocessing as pos\n",
    "\n",
    "path = \"C:/Users/julie/Documents/test_deia_Nov2022/E10_rect_P2_0.5GPa_init1_neigh1_time10_dtup5000_500000_1000K_Zfree_WR7_4e_6_PNew1.5e9_long\"\n",
    "pos.analyse_simulation(path)"
   ]
  },
  {
   "cell_type": "code",
   "execution_count": null,
   "metadata": {},
   "outputs": [],
   "source": []
  }
 ],
 "metadata": {
  "kernelspec": {
   "display_name": "rheovolution",
   "language": "python",
   "name": "python3"
  },
  "language_info": {
   "codemirror_mode": {
    "name": "ipython",
    "version": 3
   },
   "file_extension": ".py",
   "mimetype": "text/x-python",
   "name": "python",
   "nbconvert_exporter": "python",
   "pygments_lexer": "ipython3",
   "version": "3.10.9"
  },
  "orig_nbformat": 4
 },
 "nbformat": 4,
 "nbformat_minor": 2
}
