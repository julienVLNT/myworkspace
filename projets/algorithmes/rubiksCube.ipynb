{
 "cells": [
  {
   "cell_type": "code",
   "execution_count": 1,
   "metadata": {},
   "outputs": [
    {
     "name": "stdout",
     "output_type": "stream",
     "text": [
      "Python 3.10.9\n"
     ]
    }
   ],
   "source": [
    "!python --version"
   ]
  },
  {
   "attachments": {},
   "cell_type": "markdown",
   "metadata": {},
   "source": [
    "### Environnement d'execution"
   ]
  },
  {
   "cell_type": "code",
   "execution_count": 2,
   "metadata": {},
   "outputs": [],
   "source": [
    "import random as rnd"
   ]
  },
  {
   "attachments": {},
   "cell_type": "markdown",
   "metadata": {},
   "source": [
    "### Modélisation du jeu\n",
    "\n",
    "Soient les six couleurs, chacune représentée par l'initiale de son nom anglais\n",
    "\n",
    "- **B**lue,\n",
    "- **G**reen,\n",
    "- **O**range,\n",
    "- **R**ed,\n",
    "- **W**hite,\n",
    "- **Y**ellow\n",
    "\n",
    "Le Rubik's Cube est un cube à $6$ faces, chacune étant divisée en $3 \\times 3$ carrés. L'état du cube est entièrement décrit par la couleur présente sur chacune des cases."
   ]
  },
  {
   "cell_type": "code",
   "execution_count": 3,
   "metadata": {},
   "outputs": [],
   "source": [
    "class RubiksCube():\n",
    "\n",
    "    def __init__(self, \n",
    "                 couleurs = ['b', 'g', 'o', 'r', 'w', 'y'],\n",
    "                 nfaces   = 6,\n",
    "                 ncarres  = 3,\n",
    "                ) -> None:\n",
    "        \n",
    "        self.couleurs = couleurs\n",
    "        self.nfaces   = nfaces\n",
    "        self.ncarres  = ncarres\n",
    "\n",
    "        self.initialiser()\n",
    "        \n",
    "        self.etats    = {0: self.etat}\n",
    "\n",
    "        return\n",
    "\n",
    "\n",
    "\n",
    "    def initialiser(self) -> None:\n",
    "        self.etat = [[[c for _ in range(self.ncarres)] for _ in range(self.ncarres)] for c in self.couleurs]\n",
    "        return \n",
    "    \n",
    "\n",
    "\n",
    "    def melanger(self) -> None:\n",
    "        mouvements = rnd.randint(1, 100)\n",
    "        \n",
    "        actions    = [\n",
    "            ('h', 'g'),    # rotation horizontale vers la gauche\n",
    "            ('h', 'd'),    # rotation horizontale vers la droite\n",
    "            ('v', 'b'),    # rotation verticale vers le bas\n",
    "            ('v', 'h'),    # rotation verticale vers le haut\n",
    "            ('f', 'g'),    # rotation de la face vers la gauche\n",
    "            ('f', 'd'),    # rotation de la face vers la droite\n",
    "        ]\n",
    "\n",
    "        for i in range(mouvements):\n",
    "            a = rnd.choice(actions)\n",
    "            \n",
    "            if a[0] == 'h':\n",
    "                j = rnd.randint(0, self.ncarres-1)\n",
    "                self.__rotation_horizontale(j, a[1])\n",
    "            \n",
    "            elif a[0] == 'v':\n",
    "                j = rnd.randint(0, self.ncarres-1)\n",
    "                self.__rotation_verticale(j, a[1])\n",
    "            \n",
    "            else:\n",
    "                j = rnd.randint(0, self.nfaces-1)\n",
    "                self.__rotation_face(j, a[1])\n",
    "\n",
    "        self.etats[len(self.etats.keys())] = self.etat\n",
    "\n",
    "        return\n",
    "\n",
    "\n",
    "\n",
    "    def __rotation_horizontale(self, ligne: int, direction: str) -> None:\n",
    "        if direction == 'g':\n",
    "            self.etat[]\n",
    "\n",
    "        elif direction == 'd':\n",
    "            self.etat[]\n",
    "\n",
    "\n",
    "        # Rotation sur les faces si, et seulement si, la ligne est 0 ou 2"
   ]
  },
  {
   "cell_type": "code",
   "execution_count": null,
   "metadata": {},
   "outputs": [],
   "source": [
    "cube = RubiksCube()\n",
    "cube.melanger()"
   ]
  }
 ],
 "metadata": {
  "kernelspec": {
   "display_name": "rheovolution",
   "language": "python",
   "name": "python3"
  },
  "language_info": {
   "codemirror_mode": {
    "name": "ipython",
    "version": 3
   },
   "file_extension": ".py",
   "mimetype": "text/x-python",
   "name": "python",
   "nbconvert_exporter": "python",
   "pygments_lexer": "ipython3",
   "version": "3.10.9"
  },
  "orig_nbformat": 4
 },
 "nbformat": 4,
 "nbformat_minor": 2
}
