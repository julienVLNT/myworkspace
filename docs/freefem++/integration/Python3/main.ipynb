{
 "cells": [
  {
   "cell_type": "markdown",
   "id": "0772fa4e-18e1-45f4-8168-037a0018c370",
   "metadata": {},
   "source": [
    "### lancement de la simulation\n",
    "\n",
    "On exécute la simulation de Navier-Stokes."
   ]
  },
  {
   "cell_type": "code",
   "execution_count": 1,
   "id": "26eb08ca-0395-40c4-a20e-8baa57d97166",
   "metadata": {},
   "outputs": [
    {
     "data": {
      "text/plain": [
       "6"
      ]
     },
     "execution_count": 1,
     "metadata": {},
     "output_type": "execute_result"
    }
   ],
   "source": [
    "import os\n",
    "os.system(\"FreeFem++ script.edp\")"
   ]
  },
  {
   "cell_type": "markdown",
   "id": "d25405bc-5e5e-48bb-a508-1c5ac5fd1582",
   "metadata": {},
   "source": [
    "### Lecture du dataset"
   ]
  },
  {
   "cell_type": "code",
   "execution_count": 2,
   "id": "f93e2f34-a35d-4fb2-a511-e7162cb9c497",
   "metadata": {},
   "outputs": [],
   "source": [
    "import matplotlib.pyplot as plt\n",
    "import pandas as pd"
   ]
  },
  {
   "cell_type": "code",
   "execution_count": 3,
   "id": "41159df1-da62-4ee0-9013-100e172ea243",
   "metadata": {},
   "outputs": [
    {
     "data": {
      "text/html": [
       "<div>\n",
       "<style scoped>\n",
       "    .dataframe tbody tr th:only-of-type {\n",
       "        vertical-align: middle;\n",
       "    }\n",
       "\n",
       "    .dataframe tbody tr th {\n",
       "        vertical-align: top;\n",
       "    }\n",
       "\n",
       "    .dataframe thead th {\n",
       "        text-align: right;\n",
       "    }\n",
       "</style>\n",
       "<table border=\"1\" class=\"dataframe\">\n",
       "  <thead>\n",
       "    <tr style=\"text-align: right;\">\n",
       "      <th></th>\n",
       "      <th>t</th>\n",
       "      <th>dt</th>\n",
       "      <th>vortex</th>\n",
       "    </tr>\n",
       "  </thead>\n",
       "  <tbody>\n",
       "    <tr>\n",
       "      <th>0</th>\n",
       "      <td>0.000000</td>\n",
       "      <td>0.010417</td>\n",
       "      <td>15.4367</td>\n",
       "    </tr>\n",
       "    <tr>\n",
       "      <th>1</th>\n",
       "      <td>0.010417</td>\n",
       "      <td>0.010417</td>\n",
       "      <td>12.5774</td>\n",
       "    </tr>\n",
       "    <tr>\n",
       "      <th>2</th>\n",
       "      <td>0.020833</td>\n",
       "      <td>0.010417</td>\n",
       "      <td>12.3446</td>\n",
       "    </tr>\n",
       "    <tr>\n",
       "      <th>3</th>\n",
       "      <td>0.031250</td>\n",
       "      <td>0.010417</td>\n",
       "      <td>12.8026</td>\n",
       "    </tr>\n",
       "    <tr>\n",
       "      <th>4</th>\n",
       "      <td>0.041667</td>\n",
       "      <td>0.010417</td>\n",
       "      <td>13.9759</td>\n",
       "    </tr>\n",
       "  </tbody>\n",
       "</table>\n",
       "</div>"
      ],
      "text/plain": [
       "          t        dt   vortex\n",
       "0  0.000000  0.010417  15.4367\n",
       "1  0.010417  0.010417  12.5774\n",
       "2  0.020833  0.010417  12.3446\n",
       "3  0.031250  0.010417  12.8026\n",
       "4  0.041667  0.010417  13.9759"
      ]
     },
     "execution_count": 3,
     "metadata": {},
     "output_type": "execute_result"
    }
   ],
   "source": [
    "df = pd.read_csv(\"data/vortex.csv\")\n",
    "df.head()"
   ]
  },
  {
   "cell_type": "markdown",
   "id": "ea9d2877-2dc3-4149-9e8e-5db9ec4b869c",
   "metadata": {},
   "source": [
    "### Graphe de la norme $L^2(\\mathcal{T}_h)$ du tourbillon"
   ]
  },
  {
   "cell_type": "code",
   "execution_count": 4,
   "id": "b59c4380-7063-439a-9d38-9167fd6908f1",
   "metadata": {},
   "outputs": [
    {
     "data": {
      "image/png": "[encoded data removed]",
      "text/plain": [
       "<Figure size 432x288 with 1 Axes>"
      ]
     },
     "metadata": {
      "needs_background": "light"
     },
     "output_type": "display_data"
    }
   ],
   "source": [
    "plt.plot(df.t, df.vortex)\n",
    "plt.xlabel(r\"$temps t$\")\n",
    "plt.ylabel(r\"$\\| w \\|_{L^2}$\")\n",
    "plt.show()"
   ]
  },
  {
   "cell_type": "code",
   "execution_count": null,
   "id": "ada2c3ed-f127-4405-a89b-54f3c1500805",
   "metadata": {},
   "outputs": [],
   "source": []
  }
 ],
 "metadata": {
  "kernelspec": {
   "display_name": "Python 3.10.4 ('bistable')",
   "language": "python",
   "name": "python3"
  },
  "language_info": {
   "codemirror_mode": {
    "name": "ipython",
    "version": 3
   },
   "file_extension": ".py",
   "mimetype": "text/x-python",
   "name": "python",
   "nbconvert_exporter": "python",
   "pygments_lexer": "ipython3",
   "version": "3.10.4"
  },
  "vscode": {
   "interpreter": {
    "hash": "d6fbbeff307445a430872ed1a94c3229c480c9e421775733cac797382a77f268"
   }
  }
 },
 "nbformat": 4,
 "nbformat_minor": 5
}
